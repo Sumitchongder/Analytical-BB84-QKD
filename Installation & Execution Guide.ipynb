{
 "cells": [
  {
   "cell_type": "markdown",
   "id": "8605bca0",
   "metadata": {},
   "source": [
    "# **Introduction to qiskit**\n",
    "<img src=\"qiskit logo.png\">\n",
    "<!-- ![](https://qrisp.eu/_images/qiskit_logo.png) -->\n",
    "\n",
    "Qiskit is an open-source, Python-based, high-performance software stack for quantum computing, originally developed by IBM Research and first released in 2017. It provides tools for creating quantum programs and executing them on quantum computers or classical simulators.\\\n",
    "Qiskit is the world’s most popular software stack for quantum computing. Build circuits, leverage Qiskit functions, transpile with AI tools, and execute workloads in an optimized runtime environment.\n",
    "\n",
    "## Install miniconda\n",
    "##### Windows Command Prompt\n",
    "curl https://repo.anaconda.com/miniconda/Miniconda3-latest-Windows-x86_64.exe -o .\\miniconda.exe \\\n",
    "start /wait \"\" .\\miniconda.exe /S \\\n",
    "del .\\miniconda.exe\n",
    "\n",
    "##### macOS\n",
    "mkdir -p ~/miniconda3 \\\n",
    "curl https://repo.anaconda.com/miniconda/Miniconda3-latest-MacOSX-arm64.sh -o ~/miniconda3/miniconda.sh \\\n",
    "bash ~/miniconda3/miniconda.sh -b -u -p ~/miniconda3 \\\n",
    "rm ~/miniconda3/miniconda.sh \n",
    "\n",
    "##### Linux\n",
    "https://www.anaconda.com/docs/getting-started/miniconda/install#linux-2\n",
    "\n",
    "In case of any future updates, you can check the following link for qiskit installation.\\\n",
    "https://quantum.cloud.ibm.com/docs/en/guides/install-qiskit\n",
    "\n",
    "## Install environment\n",
    "Download qcl.yml \\\n",
    "Open Anaconda prompt (windows) \\\n",
    "Open terminal (macOS and Linux)\n",
    "\n",
    "#### Change the directory where the qcl.yml is downloaded\n",
    "\n",
    "#### conda env create -f qcl.yml \n",
    "\n",
    "<img src=\"https://github.com/user-attachments/assets/d064aee4-0de9-4bc6-94d2-0c6dac08fbb9\" width=\"100%\">\n",
    "\n",
    "## Activate Environment and Run the Streamlit.py Application\n",
    "Activate the qcl Environment by using the following command:\n",
    "##### conda activate qcl\n",
    "\n",
    "Change the directory where you have downloaded the Python File (streamlit_app.py)\n",
    "For Example:\n",
    "##### cd Downloads {if the python (.py) file in Downloads Folder}\n",
    "\n",
    "To run the streamlit_app.py execute the following command\n",
    "#### streamlit run streamlit_app.py\n",
    "\n",
    "<img src=\"Screenshot 2025-10-25 160824.png\">\n",
    "    "
   ]
  }
 ],
 "metadata": {
  "kernelspec": {
   "display_name": "Python 3 (ipykernel)",
   "language": "python",
   "name": "python3"
  },
  "language_info": {
   "codemirror_mode": {
    "name": "ipython",
    "version": 3
   },
   "file_extension": ".py",
   "mimetype": "text/x-python",
   "name": "python",
   "nbconvert_exporter": "python",
   "pygments_lexer": "ipython3",
   "version": "3.12.11"
  }
 },
 "nbformat": 4,
 "nbformat_minor": 5
}
